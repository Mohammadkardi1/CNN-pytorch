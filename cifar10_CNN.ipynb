{
  "nbformat": 4,
  "nbformat_minor": 0,
  "metadata": {
    "anaconda-cloud": {},
    "kernelspec": {
      "display_name": "Python [default]",
      "language": "python",
      "name": "python3"
    },
    "language_info": {
      "codemirror_mode": {
        "name": "ipython",
        "version": 3
      },
      "file_extension": ".py",
      "mimetype": "text/x-python",
      "name": "python",
      "nbconvert_exporter": "python",
      "pygments_lexer": "ipython3",
      "version": "3.6.4"
    },
    "colab": {
      "name": "cifar10_cnn_solution.ipynb",
      "provenance": []
    }
  },
  "cells": [
    {
      "cell_type": "markdown",
      "metadata": {
        "id": "fiR0rhsHo7_v",
        "colab_type": "text"
      },
      "source": [
        "# Convolutional Neural Networks\n",
        "---\n",
        "\n",
        "The images in cifar database are small color images"
      ]
    },
    {
      "cell_type": "markdown",
      "metadata": {
        "id": "7Uc-0pj8o7_3",
        "colab_type": "text"
      },
      "source": [
        "---\n",
        "## Load the Data\n",
        "We load in the training and test data, split the training data into a training and validation set, then create DataLoaders for each of these sets of data."
      ]
    },
    {
      "cell_type": "code",
      "metadata": {
        "id": "z2YDs8gCo7_5",
        "colab_type": "code",
        "colab": {},
        "outputId": "6f04ee60-d1f8-47d8-e669-b17064314dd4"
      },
      "source": [
        "from torchvision import datasets\n",
        "import torchvision.transforms as transforms\n",
        "from torch.utils.data.sampler import SubsetRandomSampler\n",
        "\n",
        "# number of subprocesses to use for data loading\n",
        "num_workers = 0\n",
        "# how many samples per batch to load\n",
        "batch_size = 20\n",
        "# percentage of training set to use as validation\n",
        "valid_size = 0.2\n",
        "\n",
        "# convert data to a normalized torch.FloatTensor\n",
        "transform = transforms.Compose([\n",
        "    transforms.ToTensor(),\n",
        "    transforms.Normalize((0.5, 0.5, 0.5), (0.5, 0.5, 0.5))\n",
        "    ])\n",
        "\n",
        "# choose the training and test datasets\n",
        "train_data = datasets.CIFAR10('data', train=True,\n",
        "                              download=True, transform=transform)\n",
        "test_data = datasets.CIFAR10('data', train=False,\n",
        "                             download=True, transform=transform)\n",
        "\n",
        "# obtain training indices that will be used for validation\n",
        "num_train = len(train_data)\n",
        "indices = list(range(num_train))\n",
        "np.random.shuffle(indices)\n",
        "split = int(np.floor(valid_size * num_train))\n",
        "train_idx, valid_idx = indices[split:], indices[:split]\n",
        "\n",
        "# define samplers for obtaining training and validation batches\n",
        "train_sampler = SubsetRandomSampler(train_idx)\n",
        "valid_sampler = SubsetRandomSampler(valid_idx)\n",
        "\n",
        "# prepare data loaders (combine dataset and sampler)\n",
        "train_loader = torch.utils.data.DataLoader(train_data, batch_size=batch_size,\n",
        "    sampler=train_sampler, num_workers=num_workers)\n",
        "valid_loader = torch.utils.data.DataLoader(train_data, batch_size=batch_size, \n",
        "    sampler=valid_sampler, num_workers=num_workers)\n",
        "test_loader = torch.utils.data.DataLoader(test_data, batch_size=batch_size, \n",
        "    num_workers=num_workers)\n",
        "\n",
        "# specify the image classes\n",
        "classes = ['airplane', 'automobile', 'bird', 'cat', 'deer',\n",
        "           'dog', 'frog', 'horse', 'ship', 'truck']"
      ],
      "execution_count": 0,
      "outputs": [
        {
          "output_type": "stream",
          "text": [
            "Downloading https://www.cs.toronto.edu/~kriz/cifar-10-python.tar.gz to data/cifar-10-python.tar.gz\n",
            "Files already downloaded and verified\n"
          ],
          "name": "stdout"
        }
      ]
    },
    {
      "cell_type": "markdown",
      "metadata": {
        "id": "C5qfbwoSo8AI",
        "colab_type": "text"
      },
      "source": [
        "---\n",
        "## Define the Network Architecture\n",
        "\n",
        "we'll define a CNN architecture. Instead of an MLP, which used linear, fully-connected layers, you'll use the following:\n",
        "* Convolutional layers, which can be thought of as stack of filtered images.\n",
        "* Maxpooling layers, which reduce the x-y size of an input, keeping only the most _active_ pixels from the previous layer.\n",
        "* The usual Linear + Dropout layers to avoid overfitting and produce a 10-dim output.\n",
        "\n",
        "\n",
        "\n"
      ]
    },
    {
      "cell_type": "code",
      "metadata": {
        "id": "fuVQmcYHo8AI",
        "colab_type": "code",
        "colab": {},
        "outputId": "d323caf1-78d7-47ac-ce15-a7890fda6d9f"
      },
      "source": [
        "import torch.nn as nn\n",
        "import torch.nn.functional as F\n",
        "\n",
        "# define the CNN architecture\n",
        "class Net(nn.Module):\n",
        "    def __init__(self):\n",
        "        super(Net, self).__init__()\n",
        "        # convolutional layer (sees 32x32x3 image tensor)\n",
        "        self.conv1 = nn.Conv2d(3, 16, 3, padding=1)\n",
        "        # convolutional layer (sees 16x16x16 tensor)\n",
        "        self.conv2 = nn.Conv2d(16, 32, 3, padding=1)\n",
        "        # convolutional layer (sees 8x8x32 tensor)\n",
        "        self.conv3 = nn.Conv2d(32, 64, 3, padding=1)\n",
        "        # max pooling layer\n",
        "        self.pool = nn.MaxPool2d(2, 2)\n",
        "        # linear layer (64 * 4 * 4 -> 500)\n",
        "        self.fc1 = nn.Linear(64 * 4 * 4, 500)\n",
        "        # linear layer (500 -> 10)\n",
        "        self.fc2 = nn.Linear(500, 10)\n",
        "        # dropout layer (p=0.25)\n",
        "        self.dropout = nn.Dropout(0.25)\n",
        "\n",
        "    def forward(self, x):\n",
        "        # add sequence of convolutional and max pooling layers\n",
        "        x = self.pool(F.relu(self.conv1(x)))\n",
        "        x = self.pool(F.relu(self.conv2(x)))\n",
        "        x = self.pool(F.relu(self.conv3(x)))\n",
        "        # flatten image input\n",
        "        x = x.view(-1, 64 * 4 * 4)\n",
        "        # add dropout layer\n",
        "        x = self.dropout(x)\n",
        "        # add 1st hidden layer, with relu activation function\n",
        "        x = F.relu(self.fc1(x))\n",
        "        # add dropout layer\n",
        "        x = self.dropout(x)\n",
        "        # add 2nd hidden layer, with relu activation function\n",
        "        x = self.fc2(x)\n",
        "        return x\n",
        "\n",
        "# create a complete CNN\n",
        "model = Net()\n",
        "print(model)\n",
        "\n",
        "# move tensors to GPU if CUDA is available\n",
        "if train_on_gpu:\n",
        "    model.cuda()"
      ],
      "execution_count": 0,
      "outputs": [
        {
          "output_type": "stream",
          "text": [
            "Net(\n",
            "  (conv1): Conv2d(3, 16, kernel_size=(3, 3), stride=(1, 1), padding=(1, 1))\n",
            "  (conv2): Conv2d(16, 32, kernel_size=(3, 3), stride=(1, 1), padding=(1, 1))\n",
            "  (conv3): Conv2d(32, 64, kernel_size=(3, 3), stride=(1, 1), padding=(1, 1))\n",
            "  (pool): MaxPool2d(kernel_size=2, stride=2, padding=0, dilation=1, ceil_mode=False)\n",
            "  (fc1): Linear(in_features=1024, out_features=500, bias=True)\n",
            "  (fc2): Linear(in_features=500, out_features=10, bias=True)\n",
            "  (dropout): Dropout(p=0.25)\n",
            ")\n"
          ],
          "name": "stdout"
        }
      ]
    },
    {
      "cell_type": "markdown",
      "metadata": {
        "id": "nJvNtzzZo8AL",
        "colab_type": "text"
      },
      "source": [
        "### Specify Loss Function and Optimizer\n",
        "\n"
      ]
    },
    {
      "cell_type": "code",
      "metadata": {
        "id": "ZUQaQFCvo8AM",
        "colab_type": "code",
        "colab": {}
      },
      "source": [
        "import torch.optim as optim\n",
        "\n",
        "# specify loss function (categorical cross-entropy)\n",
        "criterion = nn.CrossEntropyLoss()\n",
        "\n",
        "# specify optimizer\n",
        "optimizer = optim.SGD(model.parameters(), lr=0.01)"
      ],
      "execution_count": 0,
      "outputs": []
    },
    {
      "cell_type": "markdown",
      "metadata": {
        "id": "-hFlEGxAo8AQ",
        "colab_type": "text"
      },
      "source": [
        "---\n",
        "## Train the Network\n",
        "\n"
      ]
    },
    {
      "cell_type": "code",
      "metadata": {
        "id": "nHr9Nv63o8AR",
        "colab_type": "code",
        "colab": {},
        "outputId": "cb1a566e-8805-487f-c52e-2f275d80918c"
      },
      "source": [
        "# number of epochs to train the model\n",
        "n_epochs = 30\n",
        "\n",
        "valid_loss_min = np.Inf # track change in validation loss\n",
        "\n",
        "for epoch in range(1, n_epochs+1):\n",
        "\n",
        "    # keep track of training and validation loss\n",
        "    train_loss = 0.0\n",
        "    valid_loss = 0.0\n",
        "    \n",
        "   \n",
        "    # train the model #\n",
        "    \n",
        "    model.train()\n",
        "    for data, target in train_loader:\n",
        "\n",
        "        # clear the gradients of all optimized variables\n",
        "        optimizer.zero_grad()\n",
        "        # forward pass: compute predicted outputs by passing inputs to the model\n",
        "        output = model(data)\n",
        "        # calculate the batch loss\n",
        "        loss = criterion(output, target)\n",
        "        # backward pass: compute gradient of the loss with respect to model parameters\n",
        "        loss.backward()\n",
        "        # perform a single optimization step (parameter update)\n",
        "        optimizer.step()\n",
        "        # update training loss\n",
        "        train_loss += loss.item()*data.size(0)\n",
        "        \n",
        "  \n",
        "    # validate the model #\n",
        "\n",
        "    model.eval()\n",
        "    for data, target in valid_loader:\n",
        "\n",
        "        # forward pass: compute predicted outputs by passing inputs to the model\n",
        "        output = model(data)\n",
        "        # calculate the batch loss\n",
        "        loss = criterion(output, target)\n",
        "        # update average validation loss \n",
        "        valid_loss += loss.item()*data.size(0)\n",
        "    \n",
        "    # calculate average losses\n",
        "    train_loss = train_loss/len(train_loader.sampler)\n",
        "    valid_loss = valid_loss/len(valid_loader.sampler)\n",
        "        \n",
        "    # print training/validation statistics \n",
        "    print('Epoch: {} \\tTraining Loss: {:.6f} \\tValidation Loss: {:.6f}'.format(\n",
        "        epoch, train_loss, valid_loss))\n",
        "    \n",
        "    # save model if validation loss has decreased\n",
        "    if valid_loss <= valid_loss_min:\n",
        "        print('Validation loss decreased ({:.6f} --> {:.6f}).  Saving model ...'.format(\n",
        "        valid_loss_min,\n",
        "        valid_loss))\n",
        "        torch.save(model.state_dict(), 'model_cifar.pt')\n",
        "        valid_loss_min = valid_loss"
      ],
      "execution_count": 0,
      "outputs": [
        {
          "output_type": "stream",
          "text": [
            "Epoch: 1 \tTraining Loss: 1.672106 \tValidation Loss: 0.363118\n",
            "Validation loss decreased (inf --> 0.363118).  Saving model ...\n",
            "Epoch: 2 \tTraining Loss: 1.312293 \tValidation Loss: 0.311346\n",
            "Validation loss decreased (0.363118 --> 0.311346).  Saving model ...\n",
            "Epoch: 3 \tTraining Loss: 1.176583 \tValidation Loss: 0.281753\n",
            "Validation loss decreased (0.311346 --> 0.281753).  Saving model ...\n",
            "Epoch: 4 \tTraining Loss: 1.095699 \tValidation Loss: 0.267212\n",
            "Validation loss decreased (0.281753 --> 0.267212).  Saving model ...\n",
            "Epoch: 5 \tTraining Loss: 1.024160 \tValidation Loss: 0.247371\n",
            "Validation loss decreased (0.267212 --> 0.247371).  Saving model ...\n",
            "Epoch: 6 \tTraining Loss: 0.959248 \tValidation Loss: 0.236477\n",
            "Validation loss decreased (0.247371 --> 0.236477).  Saving model ...\n",
            "Epoch: 7 \tTraining Loss: 0.899253 \tValidation Loss: 0.227778\n",
            "Validation loss decreased (0.236477 --> 0.227778).  Saving model ...\n",
            "Epoch: 8 \tTraining Loss: 0.844891 \tValidation Loss: 0.213136\n",
            "Validation loss decreased (0.227778 --> 0.213136).  Saving model ...\n",
            "Epoch: 9 \tTraining Loss: 0.800833 \tValidation Loss: 0.212328\n",
            "Validation loss decreased (0.213136 --> 0.212328).  Saving model ...\n",
            "Epoch: 10 \tTraining Loss: 0.759506 \tValidation Loss: 0.201267\n",
            "Validation loss decreased (0.212328 --> 0.201267).  Saving model ...\n",
            "Epoch: 11 \tTraining Loss: 0.720494 \tValidation Loss: 0.196008\n",
            "Validation loss decreased (0.201267 --> 0.196008).  Saving model ...\n",
            "Epoch: 12 \tTraining Loss: 0.690311 \tValidation Loss: 0.201318\n",
            "Epoch: 13 \tTraining Loss: 0.661617 \tValidation Loss: 0.185576\n",
            "Validation loss decreased (0.196008 --> 0.185576).  Saving model ...\n",
            "Epoch: 14 \tTraining Loss: 0.630994 \tValidation Loss: 0.181671\n",
            "Validation loss decreased (0.185576 --> 0.181671).  Saving model ...\n",
            "Epoch: 15 \tTraining Loss: 0.602320 \tValidation Loss: 0.191294\n",
            "Epoch: 16 \tTraining Loss: 0.575160 \tValidation Loss: 0.179154\n",
            "Validation loss decreased (0.181671 --> 0.179154).  Saving model ...\n",
            "Epoch: 17 \tTraining Loss: 0.552746 \tValidation Loss: 0.182999\n",
            "Epoch: 18 \tTraining Loss: 0.528402 \tValidation Loss: 0.173850\n",
            "Validation loss decreased (0.179154 --> 0.173850).  Saving model ...\n",
            "Epoch: 19 \tTraining Loss: 0.501765 \tValidation Loss: 0.180687\n",
            "Epoch: 20 \tTraining Loss: 0.482430 \tValidation Loss: 0.173167\n",
            "Validation loss decreased (0.173850 --> 0.173167).  Saving model ...\n",
            "Epoch: 21 \tTraining Loss: 0.462633 \tValidation Loss: 0.175091\n",
            "Epoch: 22 \tTraining Loss: 0.445214 \tValidation Loss: 0.178720\n",
            "Epoch: 23 \tTraining Loss: 0.422606 \tValidation Loss: 0.180138\n",
            "Epoch: 24 \tTraining Loss: 0.407203 \tValidation Loss: 0.175946\n",
            "Epoch: 25 \tTraining Loss: 0.386997 \tValidation Loss: 0.176448\n",
            "Epoch: 26 \tTraining Loss: 0.371442 \tValidation Loss: 0.181148\n",
            "Epoch: 27 \tTraining Loss: 0.358134 \tValidation Loss: 0.182877\n",
            "Epoch: 28 \tTraining Loss: 0.339183 \tValidation Loss: 0.183576\n",
            "Epoch: 29 \tTraining Loss: 0.328738 \tValidation Loss: 0.188885\n",
            "Epoch: 30 \tTraining Loss: 0.313165 \tValidation Loss: 0.189191\n"
          ],
          "name": "stdout"
        }
      ]
    },
    {
      "cell_type": "markdown",
      "metadata": {
        "id": "kXzsnb5to8AU",
        "colab_type": "text"
      },
      "source": [
        "###  Load the Model with the Lowest Validation Loss"
      ]
    },
    {
      "cell_type": "code",
      "metadata": {
        "id": "E6mZfDMOo8AV",
        "colab_type": "code",
        "colab": {}
      },
      "source": [
        "model.load_state_dict(torch.load('model_cifar.pt'))"
      ],
      "execution_count": 0,
      "outputs": []
    },
    {
      "cell_type": "markdown",
      "metadata": {
        "id": "-B1YjVgGo8AY",
        "colab_type": "text"
      },
      "source": [
        "---\n",
        "## Test the Trained Network\n",
        "\n",
        "Test your trained model on previously unseen data! A \"good\" result will be a CNN that gets around 70% (or more, try your best!) accuracy on these test images."
      ]
    },
    {
      "cell_type": "code",
      "metadata": {
        "id": "E6iP4rzYo8AZ",
        "colab_type": "code",
        "colab": {},
        "outputId": "1b6aa207-b52e-4da6-da3c-b13a2ddb83b2"
      },
      "source": [
        "# track test loss\n",
        "test_loss = 0.0\n",
        "class_correct = list(0. for i in range(10))\n",
        "class_total = list(0. for i in range(10))\n",
        "\n",
        "model.eval()\n",
        "# iterate over test data\n",
        "for data, target in test_loader:\n",
        "\n",
        "    # forward pass: compute predicted outputs by passing inputs to the model\n",
        "    output = model(data)\n",
        "    # calculate the batch loss\n",
        "    loss = criterion(output, target)\n",
        "    # update test loss \n",
        "    test_loss += loss.item()*data.size(0)\n",
        "    # convert output probabilities to predicted class\n",
        "    _, pred = torch.max(output, 1)    \n",
        "    # compare predictions to true label\n",
        "    correct_tensor = pred.eq(target.data.view_as(pred))\n",
        "    correct = np.squeeze(correct_tensor.numpy()) if not train_on_gpu else np.squeeze(correct_tensor.cpu().numpy())\n",
        "    # calculate test accuracy for each object class\n",
        "    for i in range(batch_size):\n",
        "        label = target.data[i]\n",
        "        class_correct[label] += correct[i].item()\n",
        "        class_total[label] += 1\n",
        "\n",
        "# average test loss\n",
        "test_loss = test_loss/len(test_loader.dataset)\n",
        "print('Test Loss: {:.6f}\\n'.format(test_loss))\n",
        "\n",
        "for i in range(10):\n",
        "    if class_total[i] > 0:\n",
        "        print('Test Accuracy of %5s: %2d%% (%2d/%2d)' % (\n",
        "            classes[i], 100 * class_correct[i] / class_total[i],\n",
        "            np.sum(class_correct[i]), np.sum(class_total[i])))\n",
        "    else:\n",
        "        print('Test Accuracy of %5s: N/A (no training examples)' % (classes[i]))\n",
        "\n",
        "print('\\nTest Accuracy (Overall): %2d%% (%2d/%2d)' % (\n",
        "    100. * np.sum(class_correct) / np.sum(class_total),\n",
        "    np.sum(class_correct), np.sum(class_total)))"
      ],
      "execution_count": 0,
      "outputs": [
        {
          "output_type": "stream",
          "text": [
            "Test Loss: 0.893881\n",
            "\n",
            "Test Accuracy of airplane: 76% (769/1000)\n",
            "Test Accuracy of automobile: 87% (875/1000)\n",
            "Test Accuracy of  bird: 59% (590/1000)\n",
            "Test Accuracy of   cat: 49% (498/1000)\n",
            "Test Accuracy of  deer: 64% (643/1000)\n",
            "Test Accuracy of   dog: 52% (523/1000)\n",
            "Test Accuracy of  frog: 79% (790/1000)\n",
            "Test Accuracy of horse: 76% (764/1000)\n",
            "Test Accuracy of  ship: 80% (803/1000)\n",
            "Test Accuracy of truck: 78% (785/1000)\n",
            "\n",
            "Test Accuracy (Overall): 70% (7040/10000)\n"
          ],
          "name": "stdout"
        }
      ]
    }
  ]
}